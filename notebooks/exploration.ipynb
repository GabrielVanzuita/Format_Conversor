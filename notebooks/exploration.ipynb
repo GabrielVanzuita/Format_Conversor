{
 "cells": [
  {
   "cell_type": "markdown",
   "metadata": {},
   "source": [
    "## Reading Data !!"
   ]
  },
  {
   "cell_type": "code",
   "execution_count": 2,
   "metadata": {},
   "outputs": [],
   "source": [
    "import csv \n",
    "\n",
    "file_path_B = '../data_raw/dados_empresaB.csv'\n",
    "\n",
    "data_csv = []\n",
    "with open(file_path_B, 'r') as file:\n",
    "    spamreader = csv.DictReader(file, delimiter=',')\n",
    "    for row in spamreader:\n",
    "        data_csv.append(row)"
   ]
  },
  {
   "cell_type": "code",
   "execution_count": 15,
   "metadata": {},
   "outputs": [
    {
     "name": "stdout",
     "output_type": "stream",
     "text": [
      "{'Nome do Produto': 'Blush em pó', 'Categoria do Produto': 'Eletrodomésticos', 'Preço do Produto (R$)': 79.41, 'Quantidade em Estoque': 7, 'Filial': 'Filial 7'}\n"
     ]
    }
   ],
   "source": [
    "import json\n",
    "file_path_A = '../data_raw/dados_empresaA.json'\n",
    "\n",
    "data_json = []  \n",
    "with open(file_path_A, 'r') as file:\n",
    "    data_json = json.load(file) \n",
    "\n",
    "print (data_json [0] )\n",
    "\n",
    "\n"
   ]
  },
  {
   "cell_type": "markdown",
   "metadata": {},
   "source": [
    "## Adapting formats and columns"
   ]
  },
  {
   "cell_type": "code",
   "execution_count": 4,
   "metadata": {},
   "outputs": [
    {
     "name": "stdout",
     "output_type": "stream",
     "text": [
      "Columns are (CSV): dict_keys(['Nome do Item', 'Classificação do Produto', 'Valor em Reais (R$)', 'Quantidade em Estoque', 'Nome da Loja', 'Data da Venda'])\n",
      "Columns are (JSON): dict_keys(['Nome do Produto', 'Categoria do Produto', 'Preço do Produto (R$)', 'Quantidade em Estoque', 'Filial'])\n"
     ]
    }
   ],
   "source": [
    "columns_CSV = data_csv[0].keys()\n",
    "columns_JSON = data_json[0].keys()\n",
    "print(\"Columns are (CSV):\", columns_CSV)\n",
    "print (\"Columns are (JSON):\", columns_JSON)\n"
   ]
  },
  {
   "cell_type": "code",
   "execution_count": 5,
   "metadata": {},
   "outputs": [
    {
     "data": {
      "text/plain": [
       "{'Nome do Produto': 'Sombra de olhos',\n",
       " 'Categoria do Produto': 'Eletrônicos',\n",
       " 'Preço do Produto (R$)': '41.73',\n",
       " 'Quantidade em Estoque': '5',\n",
       " 'Filial': 'Filial 6',\n",
       " 'Data da Venda': '2022-11-21 18:58:06.794203'}"
      ]
     },
     "execution_count": 5,
     "metadata": {},
     "output_type": "execute_result"
    }
   ],
   "source": [
    "key_mapping = {\n",
    "    'Nome do Item': 'Nome do Produto',\n",
    "    'Classificação do Produto': 'Categoria do Produto',\n",
    "    'Valor em Reais (R$)': 'Preço do Produto (R$)',\n",
    "    'Quantidade em Estoque': 'Quantidade em Estoque',\n",
    "    'Nome da Loja': 'Filial',\n",
    "    'Data da Venda': 'Data da Venda'\n",
    "}\n",
    "\n",
    "new_data_csv = []\n",
    "for old_dict in data_csv:\n",
    "    temporary_dict = {}\n",
    "    for key, object in old_dict.items():\n",
    "        temporary_dict[key_mapping.get(key)] =  object\n",
    "new_data_csv.append (temporary_dict)\n",
    "new_data_csv[0]"
   ]
  },
  {
   "cell_type": "markdown",
   "metadata": {},
   "source": [
    "## Verificação de compatibilidade "
   ]
  },
  {
   "cell_type": "code",
   "execution_count": 6,
   "metadata": {},
   "outputs": [
    {
     "name": "stdout",
     "output_type": "stream",
     "text": [
      "1323 linhas para o arquivo CSV e 3123 linhas para o arquivo JSON, totalizando 4446 registros.\n"
     ]
    }
   ],
   "source": [
    "print(\"{} linhas para o arquivo CSV e {} linhas para o arquivo JSON, totalizando {} registros.\".format(len(data_csv), len(data_json), len(data_csv) + len(data_json)))\n"
   ]
  },
  {
   "cell_type": "markdown",
   "metadata": {},
   "source": [
    "## Juntando os data_assets"
   ]
  },
  {
   "cell_type": "code",
   "execution_count": 7,
   "metadata": {},
   "outputs": [
    {
     "name": "stdout",
     "output_type": "stream",
     "text": [
      "['Nome do Produto', 'Categoria do Produto', 'Preço do Produto (R$)', 'Quantidade em Estoque', 'Filial']\n"
     ]
    }
   ],
   "source": [
    "combined_list = []\n",
    "combined_list.extend(data_json)\n",
    "combined_list.extend(new_data_csv)\n",
    "\n",
    "#Teste de sucessabilidade\n",
    "print(list(combined_list[0]))"
   ]
  },
  {
   "cell_type": "markdown",
   "metadata": {},
   "source": [
    "## Salvando o arquivo"
   ]
  },
  {
   "cell_type": "code",
   "execution_count": 8,
   "metadata": {},
   "outputs": [],
   "source": [
    "path_dados_combinados = \"../data_processed/combined_data.scsv\"\n",
    "column_names = list(combined_list[-1].keys())\n",
    "\n",
    "with open (path_dados_combinados, 'w') as file:\n",
    "    writer = csv.DictWriter(file, fieldnames=column_names)\n",
    "    writer.writeheader()   \n",
    "\n",
    "    for row in combined_list: \n",
    "        writer.writerow(row)"
   ]
  },
  {
   "cell_type": "markdown",
   "metadata": {},
   "source": [
    "## Filtrando dados nulos"
   ]
  },
  {
   "cell_type": "code",
   "execution_count": 9,
   "metadata": {},
   "outputs": [],
   "source": [
    "combined_list [1].get('Data da Venda', 'Indisponível')  #Caso o valor de 'Data da Venda' seja nulo, retorna 'Indisponível'\n",
    "\n",
    "column_names = list(combined_list[-1].keys()) #O nome das colunas é a lista de chaves do dicionário do data_asset combined_list\n",
    "combined_data_table = [column_names] #Cria uma variável que armazena a lista com o nome das colunas.\n",
    "\n",
    "for row in combined_list: #Para cada linha no data_Asset combined_list\n",
    "    row_row = [] #Cria uma lista vazia temporária\n",
    "    for column in column_names: #Para cada linha coluna/chave na variável column_names\n",
    "        row_row.append(row.get(column, 'Indisponível')) #No final da lista vazia, adicione  (acesse os valores de combined list.acesse os(valores referentes aos nomes das colunas da variável column_names, caso não tenha nada, preencha com \"Indisponível\"))\n",
    "combined_data_table.append (row_row) #A lista vazia criada inicialmente terá em seu final os valores adicionados que estavam dentro da variavél temporário row_row\n",
    "\n"
   ]
  },
  {
   "cell_type": "code",
   "execution_count": 10,
   "metadata": {},
   "outputs": [
    {
     "data": {
      "text/plain": [
       "['Sombra de olhos',\n",
       " 'Eletrônicos',\n",
       " '41.73',\n",
       " '5',\n",
       " 'Filial 6',\n",
       " '2022-11-21 18:58:06.794203']"
      ]
     },
     "execution_count": 10,
     "metadata": {},
     "output_type": "execute_result"
    }
   ],
   "source": [
    "combined_data_table[1]"
   ]
  },
  {
   "cell_type": "code",
   "execution_count": 13,
   "metadata": {},
   "outputs": [],
   "source": [
    "path_dados_combinados_local = '../data_processed/dados_combinados.csv'\n",
    "\n",
    "\n",
    "with open (path_dados_combinados_local, 'w') as file:\n",
    "    writer = csv.writer(file)\n",
    "    writer.writerows(combined_data_table)\n"
   ]
  }
 ],
 "metadata": {
  "kernelspec": {
   "display_name": "venv",
   "language": "python",
   "name": "python3"
  },
  "language_info": {
   "codemirror_mode": {
    "name": "ipython",
    "version": 3
   },
   "file_extension": ".py",
   "mimetype": "text/x-python",
   "name": "python",
   "nbconvert_exporter": "python",
   "pygments_lexer": "ipython3",
   "version": "3.10.12"
  }
 },
 "nbformat": 4,
 "nbformat_minor": 2
}
